{
 "cells": [
  {
   "cell_type": "code",
   "execution_count": null,
   "id": "705b06bc",
   "metadata": {},
   "outputs": [],
   "source": [
    "import os\n",
    "import json\n",
    "import numpy as np\n",
    "import librosa\n",
    "import matplotlib.pyplot as plt\n",
    "from sklearn.model_selection import train_test_split\n",
    "from keras import models, layers, optimizers\n",
    "\n",
    "DATASET_PATH = \"Data/genres_original\"\n",
    "JSON_PATH = \"data.json\"\n",
    "SAMPLE_RATE = 22050\n",
    "DURATION = 30 # seconds\n",
    "SAMPLES_PER_TRACK = SAMPLE_RATE * DURATION"
   ]
  },
  {
   "cell_type": "code",
   "execution_count": null,
   "id": "f93d0ab5",
   "metadata": {},
   "outputs": [],
   "source": [
    "def prepare_dataset(dataset_path, json_path, n_mfcc=13, hop_length=512, n_fft=2048):\n",
    "    data = {\n",
    "        \"mapping\": [],\n",
    "        \"mfcc\": [],\n",
    "        \"labels\": []\n",
    "    }\n",
    "    num_samples_per_segment = int(SAMPLES_PER_TRACK / 10)\n",
    "    print(\"Extracting features from dataset...\")\n",
    "\n",
    "    for i, (dirpath, _, filenames) in enumerate(os.walk(dataset_path)):\n",
    "        if dirpath is not dataset_path:\n",
    "            genre = os.path.basename(dirpath)\n",
    "            data[\"mapping\"].append(genre)\n",
    "            print(f\"\\nProcessing: {genre}\")\n",
    "\n",
    "            for f in filenames:\n",
    "                file_path = os.path.join(dirpath, f)\n",
    "                try:\n",
    "                    signal, sr = librosa.load(file_path, sr=SAMPLE_RATE, duration=DURATION)\n",
    "                except Exception as e:\n",
    "                    print(f\"Could not load {file_path}: {e}\")\n",
    "                    continue\n",
    "\n",
    "                for s in range(10): # Process 10 segments per track\n",
    "                    start_sample = num_samples_per_segment * s\n",
    "                    end_sample = start_sample + num_samples_per_segment\n",
    "                    mfcc = librosa.feature.mfcc(y=signal[start_sample:end_sample], sr=sr, n_fft=n_fft, n_mfcc=n_mfcc, hop_length=hop_length)\n",
    "                    mfcc = mfcc.T\n",
    "\n",
    "                    if len(mfcc) == 130:\n",
    "                        data[\"mfcc\"].append(mfcc.tolist())\n",
    "                        data[\"labels\"].append(i - 1)\n",
    "                        print(\".\", end=\"\")\n",
    "\n",
    "    with open(json_path, \"w\") as fp:\n",
    "        json.dump(data, fp, indent=4)\n",
    "    print(\"\\n\\nData extraction complete and saved to data.json.\")"
   ]
  },
  {
   "cell_type": "code",
   "execution_count": null,
   "id": "9dbd9b0f",
   "metadata": {},
   "outputs": [],
   "source": [
    "# NOTE: Only run this cell once to create the data.json file.\n",
    "prepare_dataset(DATASET_PATH, JSON_PATH)"
   ]
  },
  {
   "cell_type": "code",
   "execution_count": null,
   "id": "b6b5551e",
   "metadata": {},
   "outputs": [],
   "source": [
    "with open(JSON_PATH, \"r\") as fp:\n",
    "    data = json.load(fp)\n",
    "\n",
    "X = np.array(data[\"mfcc\"])\n",
    "y = np.array(data[\"labels\"])\n",
    "X = X[..., np.newaxis] # Add channel dimension for CNN\n",
    "\n",
    "X_train, X_test, y_train, y_test = train_test_split(X, y, test_size=0.2, random_state=42)"
   ]
  },
  {
   "cell_type": "code",
   "execution_count": null,
   "id": "59f9b1e2",
   "metadata": {},
   "outputs": [],
   "source": [
    "def build_model(input_shape):\n",
    "    model = models.Sequential(name=\"Music_Genre_Classifier\")\n",
    "    model.add(layers.Conv2D(32, (3, 3), activation='relu', input_shape=input_shape))\n",
    "    model.add(layers.MaxPooling2D((3, 3), strides=(2, 2), padding='same'))\n",
    "    model.add(layers.BatchNormalization())\n",
    "    model.add(layers.Conv2D(32, (3, 3), activation='relu'))\n",
    "    model.add(layers.MaxPooling2D((3, 3), strides=(2, 2), padding='same'))\n",
    "    model.add(layers.BatchNormalization())\n",
    "    model.add(layers.Conv2D(32, (2, 2), activation='relu'))\n",
    "    model.add(layers.MaxPooling2D((2, 2), strides=(2, 2), padding='same'))\n",
    "    model.add(layers.BatchNormalization())\n",
    "    model.add(layers.Flatten())\n",
    "    model.add(layers.Dense(64, activation='relu'))\n",
    "    model.add(layers.Dropout(0.3))\n",
    "    model.add(layers.Dense(10, activation='softmax'))\n",
    "    return model\n",
    "\n",
    "input_shape = (X_train.shape[1], X_train.shape[2], X_train.shape[3])\n",
    "model = build_model(input_shape)\n",
    "optimizer = optimizers.Adam(learning_rate=0.0001)\n",
    "model.compile(optimizer=optimizer, loss='sparse_categorical_crossentropy', metrics=['accuracy'])\n",
    "model.summary()\n",
    "\n",
    "history = model.fit(X_train, y_train, validation_data=(X_test, y_test), batch_size=32, epochs=50)"
   ]
  },
  {
   "cell_type": "code",
   "execution_count": null,
   "id": "05518f66",
   "metadata": {},
   "outputs": [],
   "source": [
    "model.save(\"music_genre_classifier.keras\")\n",
    "print(\"\\nModel trained and saved as music_genre_classifier.keras\")"
   ]
  },
  {
   "cell_type": "code",
   "execution_count": null,
   "id": "5e5d8b25",
   "metadata": {},
   "outputs": [],
   "source": [
    "fig, axs = plt.subplots(2, figsize=(10, 10))\n",
    "axs[0].plot(history.history['accuracy'], label='train accuracy')\n",
    "axs[0].plot(history.history['val_accuracy'], label='test accuracy')\n",
    "axs[0].set_ylabel('Accuracy')\n",
    "axs[0].legend(loc='lower right')\n",
    "axs[0].set_title('Accuracy eval')\n",
    "axs[1].plot(history.history['loss'], label='train error')\n",
    "axs[1].plot(history.history['val_loss'], label='test error')\n",
    "axs[1].set_ylabel('Error')\n",
    "axs[1].set_xlabel('Epoch')\n",
    "axs[1].legend(loc='upper right')\n",
    "axs[1].set_title('Error eval')\n",
    "plt.show()"
   ]
  }
 ],
 "metadata": {
  "kernelspec": {
   "display_name": "my_env (3.13.5)",
   "language": "python",
   "name": "python3"
  },
  "language_info": {
   "codemirror_mode": {
    "name": "ipython",
    "version": 3
   },
   "file_extension": ".py",
   "mimetype": "text/x-python",
   "name": "python",
   "nbconvert_exporter": "python",
   "pygments_lexer": "ipython3",
   "version": "3.11.9"
  }
 },
 "nbformat": 4,
 "nbformat_minor": 5
}
